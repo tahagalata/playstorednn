{
 "cells": [
  {
   "cell_type": "markdown",
   "metadata": {
    "id": "lO7Ypb4-91uW"
   },
   "source": [
    "# Group Members:\n",
    "*   Batuhan Uzun - 070170075\n",
    "*   Özge Yılmaz - 070180029\n",
    "*   Şükran Han - 070180128\n",
    "*   Taha Galata - 070190002\n",
    "*   Teoman İnan - 070180033\n",
    "\n",
    "# Aim of the Project\n",
    "To create a model which can predict downloads from Google Play Game data."
   ]
  },
  {
   "cell_type": "markdown",
   "metadata": {
    "id": "2-wKWAR69D9l"
   },
   "source": [
    "# Importing Libraries & Data"
   ]
  },
  {
   "cell_type": "code",
   "execution_count": null,
   "metadata": {
    "id": "cJ21iSXOanH3"
   },
   "outputs": [],
   "source": [
    "import numpy as np\n",
    "import pandas as pd\n",
    "pd.set_option(\"display.max_columns\", None)\n",
    "import tensorflow as tf\n",
    "import math"
   ]
  },
  {
   "cell_type": "markdown",
   "metadata": {
    "id": "h5JOnigO-s5x"
   },
   "source": [
    "We've used Samet Çopur's web scraping data since it has the most number of games and features."
   ]
  },
  {
   "cell_type": "code",
   "execution_count": null,
   "metadata": {
    "colab": {
     "base_uri": "https://localhost:8080/",
     "height": 280
    },
    "id": "5V74uovWbx20",
    "outputId": "9dd22def-a895-48ee-9d79-57fca9fa1b0f"
   },
   "outputs": [
    {
     "data": {
      "text/html": [
       "\n",
       "  <div id=\"df-58deb20b-b0b3-4587-80fb-2fea156cdce1\">\n",
       "    <div class=\"colab-df-container\">\n",
       "      <div>\n",
       "<style scoped>\n",
       "    .dataframe tbody tr th:only-of-type {\n",
       "        vertical-align: middle;\n",
       "    }\n",
       "\n",
       "    .dataframe tbody tr th {\n",
       "        vertical-align: top;\n",
       "    }\n",
       "\n",
       "    .dataframe thead th {\n",
       "        text-align: right;\n",
       "    }\n",
       "</style>\n",
       "<table border=\"1\" class=\"dataframe\">\n",
       "  <thead>\n",
       "    <tr style=\"text-align: right;\">\n",
       "      <th></th>\n",
       "      <th>Name</th>\n",
       "      <th>Number of Rating</th>\n",
       "      <th>Genre</th>\n",
       "      <th>Rating</th>\n",
       "      <th>Price</th>\n",
       "      <th>Description</th>\n",
       "      <th>Updated</th>\n",
       "      <th>Size</th>\n",
       "      <th>Installs</th>\n",
       "      <th>Current Version</th>\n",
       "      <th>Requires Android</th>\n",
       "      <th>Content Rating</th>\n",
       "      <th>Offered By</th>\n",
       "      <th>Interactive Elements</th>\n",
       "      <th>In-app Products</th>\n",
       "    </tr>\n",
       "    <tr>\n",
       "      <th>ID</th>\n",
       "      <th></th>\n",
       "      <th></th>\n",
       "      <th></th>\n",
       "      <th></th>\n",
       "      <th></th>\n",
       "      <th></th>\n",
       "      <th></th>\n",
       "      <th></th>\n",
       "      <th></th>\n",
       "      <th></th>\n",
       "      <th></th>\n",
       "      <th></th>\n",
       "      <th></th>\n",
       "      <th></th>\n",
       "      <th></th>\n",
       "    </tr>\n",
       "  </thead>\n",
       "  <tbody>\n",
       "    <tr>\n",
       "      <th>0</th>\n",
       "      <td>Geometry Dash Lite</td>\n",
       "      <td>7,227,039</td>\n",
       "      <td>Arcade</td>\n",
       "      <td>4.4</td>\n",
       "      <td>0</td>\n",
       "      <td>Jump and fly your way through danger in this r...</td>\n",
       "      <td>11-Dec-19</td>\n",
       "      <td>58M</td>\n",
       "      <td>100,000,000+</td>\n",
       "      <td>2.2</td>\n",
       "      <td>4.0 and up</td>\n",
       "      <td>Everyone</td>\n",
       "      <td>RobTop Games</td>\n",
       "      <td>NaN</td>\n",
       "      <td>NaN</td>\n",
       "    </tr>\n",
       "  </tbody>\n",
       "</table>\n",
       "</div>\n",
       "      <button class=\"colab-df-convert\" onclick=\"convertToInteractive('df-58deb20b-b0b3-4587-80fb-2fea156cdce1')\"\n",
       "              title=\"Convert this dataframe to an interactive table.\"\n",
       "              style=\"display:none;\">\n",
       "        \n",
       "  <svg xmlns=\"http://www.w3.org/2000/svg\" height=\"24px\"viewBox=\"0 0 24 24\"\n",
       "       width=\"24px\">\n",
       "    <path d=\"M0 0h24v24H0V0z\" fill=\"none\"/>\n",
       "    <path d=\"M18.56 5.44l.94 2.06.94-2.06 2.06-.94-2.06-.94-.94-2.06-.94 2.06-2.06.94zm-11 1L8.5 8.5l.94-2.06 2.06-.94-2.06-.94L8.5 2.5l-.94 2.06-2.06.94zm10 10l.94 2.06.94-2.06 2.06-.94-2.06-.94-.94-2.06-.94 2.06-2.06.94z\"/><path d=\"M17.41 7.96l-1.37-1.37c-.4-.4-.92-.59-1.43-.59-.52 0-1.04.2-1.43.59L10.3 9.45l-7.72 7.72c-.78.78-.78 2.05 0 2.83L4 21.41c.39.39.9.59 1.41.59.51 0 1.02-.2 1.41-.59l7.78-7.78 2.81-2.81c.8-.78.8-2.07 0-2.86zM5.41 20L4 18.59l7.72-7.72 1.47 1.35L5.41 20z\"/>\n",
       "  </svg>\n",
       "      </button>\n",
       "      \n",
       "  <style>\n",
       "    .colab-df-container {\n",
       "      display:flex;\n",
       "      flex-wrap:wrap;\n",
       "      gap: 12px;\n",
       "    }\n",
       "\n",
       "    .colab-df-convert {\n",
       "      background-color: #E8F0FE;\n",
       "      border: none;\n",
       "      border-radius: 50%;\n",
       "      cursor: pointer;\n",
       "      display: none;\n",
       "      fill: #1967D2;\n",
       "      height: 32px;\n",
       "      padding: 0 0 0 0;\n",
       "      width: 32px;\n",
       "    }\n",
       "\n",
       "    .colab-df-convert:hover {\n",
       "      background-color: #E2EBFA;\n",
       "      box-shadow: 0px 1px 2px rgba(60, 64, 67, 0.3), 0px 1px 3px 1px rgba(60, 64, 67, 0.15);\n",
       "      fill: #174EA6;\n",
       "    }\n",
       "\n",
       "    [theme=dark] .colab-df-convert {\n",
       "      background-color: #3B4455;\n",
       "      fill: #D2E3FC;\n",
       "    }\n",
       "\n",
       "    [theme=dark] .colab-df-convert:hover {\n",
       "      background-color: #434B5C;\n",
       "      box-shadow: 0px 1px 3px 1px rgba(0, 0, 0, 0.15);\n",
       "      filter: drop-shadow(0px 1px 2px rgba(0, 0, 0, 0.3));\n",
       "      fill: #FFFFFF;\n",
       "    }\n",
       "  </style>\n",
       "\n",
       "      <script>\n",
       "        const buttonEl =\n",
       "          document.querySelector('#df-58deb20b-b0b3-4587-80fb-2fea156cdce1 button.colab-df-convert');\n",
       "        buttonEl.style.display =\n",
       "          google.colab.kernel.accessAllowed ? 'block' : 'none';\n",
       "\n",
       "        async function convertToInteractive(key) {\n",
       "          const element = document.querySelector('#df-58deb20b-b0b3-4587-80fb-2fea156cdce1');\n",
       "          const dataTable =\n",
       "            await google.colab.kernel.invokeFunction('convertToInteractive',\n",
       "                                                     [key], {});\n",
       "          if (!dataTable) return;\n",
       "\n",
       "          const docLinkHtml = 'Like what you see? Visit the ' +\n",
       "            '<a target=\"_blank\" href=https://colab.research.google.com/notebooks/data_table.ipynb>data table notebook</a>'\n",
       "            + ' to learn more about interactive tables.';\n",
       "          element.innerHTML = '';\n",
       "          dataTable['output_type'] = 'display_data';\n",
       "          await google.colab.output.renderOutput(dataTable, element);\n",
       "          const docLink = document.createElement('div');\n",
       "          docLink.innerHTML = docLinkHtml;\n",
       "          element.appendChild(docLink);\n",
       "        }\n",
       "      </script>\n",
       "    </div>\n",
       "  </div>\n",
       "  "
      ],
      "text/plain": [
       "                  Name Number of Rating   Genre  Rating Price  \\\n",
       "ID                                                              \n",
       "0   Geometry Dash Lite        7,227,039  Arcade     4.4     0   \n",
       "\n",
       "                                          Description    Updated Size  \\\n",
       "ID                                                                      \n",
       "0   Jump and fly your way through danger in this r...  11-Dec-19  58M   \n",
       "\n",
       "        Installs Current Version Requires Android Content Rating  \\\n",
       "ID                                                                 \n",
       "0   100,000,000+             2.2       4.0 and up       Everyone   \n",
       "\n",
       "      Offered By Interactive Elements In-app Products  \n",
       "ID                                                     \n",
       "0   RobTop Games                  NaN             NaN  "
      ]
     },
     "execution_count": 2,
     "metadata": {},
     "output_type": "execute_result"
    }
   ],
   "source": [
    "data = pd.read_csv(\"data.csv\", index_col=0)\n",
    "data.head(1)"
   ]
  },
  {
   "cell_type": "markdown",
   "metadata": {
    "id": "T1q-T0WY-Gmm"
   },
   "source": [
    "# Preprocessing of Non-Image Data"
   ]
  },
  {
   "cell_type": "markdown",
   "metadata": {
    "id": "5Y25pVDRBvxf"
   },
   "source": [
    "## In-app Products Data Preprocessing"
   ]
  },
  {
   "cell_type": "markdown",
   "metadata": {
    "id": "Y8ua1O42--Gn"
   },
   "source": [
    "We have removed \"per item\" and \"$\"."
   ]
  },
  {
   "cell_type": "code",
   "execution_count": null,
   "metadata": {
    "id": "7VSB0OgLUmHI"
   },
   "outputs": [],
   "source": [
    "data[\"In-app Products\"] = data[\"In-app Products\"].astype(\"string\")"
   ]
  },
  {
   "cell_type": "code",
   "execution_count": null,
   "metadata": {
    "id": "Ju81D69WBvxf"
   },
   "outputs": [],
   "source": [
    "data[\"In-app Products\"] = data[\"In-app Products\"].str.replace(\" per item\", \"\")"
   ]
  },
  {
   "cell_type": "code",
   "execution_count": null,
   "metadata": {
    "colab": {
     "base_uri": "https://localhost:8080/"
    },
    "id": "o_DNPymPBvxg",
    "outputId": "8c98cd7f-289b-4c36-bdbf-936a6e1f4823"
   },
   "outputs": [],
   "source": [
    "data[\"In-app Products\"] = data[\"In-app Products\"].str.replace(\"$\", \"\")"
   ]
  },
  {
   "cell_type": "code",
   "execution_count": null,
   "metadata": {
    "id": "NVJwMVh6Bvxg"
   },
   "outputs": [],
   "source": [
    "data[\"In-app Products\"].fillna(\"0 - 0\", inplace=True)"
   ]
  },
  {
   "cell_type": "markdown",
   "metadata": {
    "id": "jM1leet3_Peu"
   },
   "source": [
    "Then we have splitted the range into minimum and maximum values."
   ]
  },
  {
   "cell_type": "code",
   "execution_count": null,
   "metadata": {
    "id": "Cn6bQFjfBvxh"
   },
   "outputs": [],
   "source": [
    "data[\"Min In_app Products\"] = data[\"In-app Products\"].str.split(\" - \", expand=True).astype(\"float32\").iloc[:, 0]"
   ]
  },
  {
   "cell_type": "code",
   "execution_count": null,
   "metadata": {
    "id": "P_ttxKScBvxh"
   },
   "outputs": [],
   "source": [
    "data[\"Max In_app Products\"] = data[\"In-app Products\"].str.split(\" - \", expand=True).astype(\"float32\").iloc[:, 1]"
   ]
  },
  {
   "cell_type": "markdown",
   "metadata": {
    "id": "mcvFPwnL_R9Z"
   },
   "source": [
    "Lastly, we have dropped unprocessed column."
   ]
  },
  {
   "cell_type": "code",
   "execution_count": null,
   "metadata": {
    "id": "COrFzxORBvxi"
   },
   "outputs": [],
   "source": [
    "data.drop(\"In-app Products\", axis=1, inplace=True)"
   ]
  },
  {
   "cell_type": "markdown",
   "metadata": {
    "id": "6eqtchYLBvxi"
   },
   "source": [
    "## Interactive Elements Preprocessing"
   ]
  },
  {
   "cell_type": "code",
   "execution_count": null,
   "metadata": {
    "colab": {
     "base_uri": "https://localhost:8080/"
    },
    "id": "M2apnDPhBvxi",
    "outputId": "4d369733-b21e-4ddd-cf4b-0ec1b29340f8"
   },
   "outputs": [
    {
     "data": {
      "text/plain": [
       "array([nan, 'Digital Purchases', 'Users Interact, Digital Purchases',\n",
       "       'In-Game Purchases', 'Users Interact, In-Game Purchases',\n",
       "       'Shares Location, Digital Purchases', 'Users Interact',\n",
       "       'Shares Info, Digital Purchases',\n",
       "       'In-Game Purchases (Includes Random Items)',\n",
       "       'Users Interact, In-Game Purchases (Includes Random Items)',\n",
       "       'In-App Purchases',\n",
       "       'Users Interact, Shares Info, Digital Purchases',\n",
       "       'Users Interact, Shares Info, Shares Location, Digital Purchases',\n",
       "       'Shares Location, In-Game Purchases',\n",
       "       'Users Interact, Shares Location, In-Game Purchases',\n",
       "       'Users Interact, In-App Purchases',\n",
       "       'Users Interact, Shares Location, Digital Purchases',\n",
       "       'Shares Info', 'Users Interact, Shares Location'], dtype=object)"
      ]
     },
     "execution_count": 10,
     "metadata": {},
     "output_type": "execute_result"
    }
   ],
   "source": [
    "data[\"Interactive Elements\"].unique()"
   ]
  },
  {
   "cell_type": "markdown",
   "metadata": {
    "id": "ee9p1ag6_vP2"
   },
   "source": [
    "We have filled nan values with the string \"None\""
   ]
  },
  {
   "cell_type": "code",
   "execution_count": null,
   "metadata": {
    "id": "un0s9hvGBvxi"
   },
   "outputs": [],
   "source": [
    "data[\"Interactive Elements\"].fillna(\"None\", inplace=True)"
   ]
  },
  {
   "cell_type": "markdown",
   "metadata": {
    "id": "zNvDtcsN_go6"
   },
   "source": [
    "There were more than one element in one string of each \"Interactive Elemenents\" data. We have seperated those strings to get individual elements."
   ]
  },
  {
   "cell_type": "code",
   "execution_count": null,
   "metadata": {
    "colab": {
     "base_uri": "https://localhost:8080/"
    },
    "id": "YB_k3jg0Bvxj",
    "outputId": "14eb5959-3cae-49b2-894b-61e1268bf42e"
   },
   "outputs": [
    {
     "data": {
      "text/plain": [
       "['Digital Purchases',\n",
       " 'Users Interact',\n",
       " 'In-Game Purchases',\n",
       " 'Shares Location',\n",
       " 'Shares Info',\n",
       " 'In-Game Purchases (Includes Random Items)',\n",
       " 'In-App Purchases']"
      ]
     },
     "execution_count": 12,
     "metadata": {},
     "output_type": "execute_result"
    }
   ],
   "source": [
    "elements = []\n",
    "for string in data[\"Interactive Elements\"].unique()[1: ]:\n",
    "    for element in string.split(\", \"):\n",
    "        if element not in elements:\n",
    "            elements.append(element)\n",
    "elements"
   ]
  },
  {
   "cell_type": "markdown",
   "metadata": {
    "id": "5j6ca2fpAGAc"
   },
   "source": [
    "Then, we have checked each game if they have the elements above. If there is, we have denoted respective element's value as 1, 0 otherwise."
   ]
  },
  {
   "cell_type": "code",
   "execution_count": null,
   "metadata": {
    "id": "p36rYj2VBvxj"
   },
   "outputs": [],
   "source": [
    "for element in elements:\n",
    "    data[element] = 0\n",
    "    for i in range(data.shape[0]):\n",
    "        data.at[i, element] = int(element in data.loc[i, \"Interactive Elements\"])"
   ]
  },
  {
   "cell_type": "markdown",
   "metadata": {
    "id": "IjvVvhOoAf6W"
   },
   "source": [
    "Lastly, we have dropped unprocessed column."
   ]
  },
  {
   "cell_type": "code",
   "execution_count": null,
   "metadata": {
    "id": "P0X9gzq1Bvxj"
   },
   "outputs": [],
   "source": [
    "data.drop(\"Interactive Elements\", axis=1, inplace=True)"
   ]
  },
  {
   "cell_type": "markdown",
   "metadata": {
    "id": "t4BNiRF-Bvxj"
   },
   "source": [
    "## Offered By Preprocessing"
   ]
  },
  {
   "cell_type": "markdown",
   "metadata": {
    "id": "nqVMDIbWAhRL"
   },
   "source": [
    "We have grouped the games according to their producers. Then we've counted how many games are produced by each producer. Then, it is converted to a dictionary."
   ]
  },
  {
   "cell_type": "code",
   "execution_count": null,
   "metadata": {
    "id": "dlmCTcKHBvxk"
   },
   "outputs": [],
   "source": [
    "producers = data.groupby(by=\"Offered By\").count()[\"Name\"].to_dict()"
   ]
  },
  {
   "cell_type": "markdown",
   "metadata": {
    "id": "t6LKgDf9BEu7"
   },
   "source": [
    "Then, we have added these counted games to the \"Number of Games Offered By Producer\" column."
   ]
  },
  {
   "cell_type": "code",
   "execution_count": null,
   "metadata": {
    "id": "CgfitYxkBvxk"
   },
   "outputs": [],
   "source": [
    "for i in range(data.shape[0]):\n",
    "    key = data.loc[i, \"Offered By\"]\n",
    "    data.loc[i, \"Number of Games Offered By Producer\"] = producers[key]"
   ]
  },
  {
   "cell_type": "markdown",
   "metadata": {
    "id": "uBvQh2mABa5Z"
   },
   "source": [
    "Lastly, we have dropped unprocessed column."
   ]
  },
  {
   "cell_type": "code",
   "execution_count": null,
   "metadata": {
    "id": "0Idw9yk9Bvxk"
   },
   "outputs": [],
   "source": [
    "data.drop(\"Offered By\", axis=1,inplace=True)"
   ]
  },
  {
   "cell_type": "markdown",
   "metadata": {
    "id": "pnrwrks9D4Jf"
   },
   "source": [
    "## Size Data Preprocessing"
   ]
  },
  {
   "cell_type": "markdown",
   "metadata": {
    "id": "GRpEuhWRBnEr"
   },
   "source": [
    "Data Sizes were in such form: \"99M\", \"1.5G\", \"Varies with device\""
   ]
  },
  {
   "cell_type": "code",
   "execution_count": null,
   "metadata": {
    "id": "32h_y_PQDwGQ"
   },
   "outputs": [],
   "source": [
    "data[\"Size\"] = data[\"Size\"].str.replace(\",\", \"\")"
   ]
  },
  {
   "cell_type": "markdown",
   "metadata": {
    "id": "oAMM5r_vBzFd"
   },
   "source": [
    "We have removed M and G, replaced \"varies with device\" with 0. We have kept the sizes with Gs in a list so that we can multiply these with 1024 to convert to megabytes. "
   ]
  },
  {
   "cell_type": "code",
   "execution_count": null,
   "metadata": {
    "id": "D3DRlOmNExSC"
   },
   "outputs": [],
   "source": [
    "G_list=[]\n",
    "data[\"Size\"]=data[\"Size\"].str.replace(\"M\", \"\")\n",
    "data[\"Size\"]=data[\"Size\"].str.replace(\"Varies with device\", \"0\")\n",
    "for i in range(data.shape[0]):\n",
    "    if \"G\" in data.loc[i,\"Size\"]:\n",
    "        G_list.append(i)\n",
    "data[\"Size\"]=data[\"Size\"].str.replace(\"G\", \"\")\n",
    "data[\"Size\"]=data[\"Size\"].astype(\"float32\")"
   ]
  },
  {
   "cell_type": "code",
   "execution_count": null,
   "metadata": {
    "id": "EjTvUB2FIF_n"
   },
   "outputs": [],
   "source": [
    "data[\"Max In_app Products\"].fillna(0,inplace=True)"
   ]
  },
  {
   "cell_type": "code",
   "execution_count": null,
   "metadata": {
    "colab": {
     "base_uri": "https://localhost:8080/"
    },
    "id": "gYLdrqgfKfLX",
    "outputId": "7e8417f4-1097-4035-915e-c9e5dd0a4eec"
   },
   "outputs": [
    {
     "name": "stdout",
     "output_type": "stream",
     "text": [
      "[348, 394, 550, 616, 691, 775, 1402, 1514, 1546, 1659, 1739, 1958, 2090, 2239]\n"
     ]
    }
   ],
   "source": [
    "print(G_list)"
   ]
  },
  {
   "cell_type": "code",
   "execution_count": null,
   "metadata": {
    "id": "wZwoQ_BQJ3Co"
   },
   "outputs": [],
   "source": [
    "for i in range(data.shape[0]):\n",
    "    if i in G_list:\n",
    "      data.loc[i,\"Size\"]=data.loc[i,\"Size\"]*1024"
   ]
  },
  {
   "cell_type": "markdown",
   "metadata": {
    "id": "v6WB_H9KCcsk"
   },
   "source": [
    "Lastly, we have assigned sizes \"varies with device\" to the average."
   ]
  },
  {
   "cell_type": "code",
   "execution_count": null,
   "metadata": {
    "id": "-PX9HqEhKNvE"
   },
   "outputs": [],
   "source": [
    "average=data[\"Size\"].sum()/(2368-205)\n",
    "for i in range(data.shape[0]):\n",
    "    if data.loc[i,\"Size\"]==0: # varies with device was changed to 0 before\n",
    "        data.loc[i,\"Size\"]=average"
   ]
  },
  {
   "cell_type": "markdown",
   "metadata": {
    "id": "CZN_PMTZBvxk"
   },
   "source": [
    "## Requires Android Preprocessing"
   ]
  },
  {
   "cell_type": "code",
   "execution_count": null,
   "metadata": {
    "id": "8jBOnEOVBvxk"
   },
   "outputs": [],
   "source": [
    "data[\"Requires Android\"] = data[\"Requires Android\"].astype(\"string\")"
   ]
  },
  {
   "cell_type": "markdown",
   "metadata": {
    "id": "nyGYVNQ5C2MQ"
   },
   "source": [
    "We have removed \" and up\" and get the minimum android version required."
   ]
  },
  {
   "cell_type": "code",
   "execution_count": null,
   "metadata": {
    "id": "dUXwYTgoBvxl"
   },
   "outputs": [],
   "source": [
    "data[\"Requires Android\"] = data[\"Requires Android\"].str.replace(\" and up\", \"\")"
   ]
  },
  {
   "cell_type": "code",
   "execution_count": null,
   "metadata": {
    "id": "AoOE4EFeBvxl"
   },
   "outputs": [],
   "source": [
    "data[\"Requires Android\"].replace({'4.4W':'4.4', \n",
    "                                  '5.1 - 12': '5.1',\n",
    "                                  '2.3.3': '2.33',\n",
    "                                  '4.0.3': '4.03',\n",
    "                                  'Varies with device': data[\"Requires Android\"].mode()[0]\n",
    "                                 }, inplace=True)"
   ]
  },
  {
   "cell_type": "code",
   "execution_count": null,
   "metadata": {
    "id": "m-i_igtDBvxl"
   },
   "outputs": [],
   "source": [
    "data[\"Requires Android\"] = data[\"Requires Android\"].astype(\"float32\")"
   ]
  },
  {
   "cell_type": "markdown",
   "metadata": {
    "id": "0R6_O24SCe-h"
   },
   "source": [
    "## Price Data Preprocessing"
   ]
  },
  {
   "cell_type": "markdown",
   "metadata": {
    "id": "8JESLOVuDFVt"
   },
   "source": [
    "We have removed $ sign and space."
   ]
  },
  {
   "cell_type": "code",
   "execution_count": null,
   "metadata": {
    "id": "ioQ4M-XgCnHv"
   },
   "outputs": [],
   "source": [
    "data[\"Price\"] = data[\"Price\"].astype(\"string\")"
   ]
  },
  {
   "cell_type": "code",
   "execution_count": null,
   "metadata": {
    "colab": {
     "base_uri": "https://localhost:8080/"
    },
    "id": "GMGlD4xZDDwF",
    "outputId": "76b48a6d-0f15-4164-8b5a-8802d982bbf2",
    "scrolled": true
   },
   "outputs": [],
   "source": [
    "data[\"Price\"]=data[\"Price\"].str.replace(\"$\", \"\")"
   ]
  },
  {
   "cell_type": "code",
   "execution_count": null,
   "metadata": {
    "colab": {
     "base_uri": "https://localhost:8080/"
    },
    "id": "-ekG-1sZDlqu",
    "outputId": "44f08b64-3515-468f-c421-2d2fbdf99b6d"
   },
   "outputs": [
    {
     "data": {
      "text/plain": [
       "<StringArray>\n",
       "[    '0',  '3.99',  '9.99',  '4.99', '15.99',  '6.99',  '5.49',  '2.99',\n",
       "  '7.49',  '2.49',  '1.99',  '0.99',  '7.99',  '3.49', '13.99',  '6.49',\n",
       "  '4.49',  '5.99', '19.99',  '8.99',  '1.49',  '8.49',  '0.49', '32.99']\n",
       "Length: 24, dtype: string"
      ]
     },
     "execution_count": 32,
     "metadata": {},
     "output_type": "execute_result"
    }
   ],
   "source": [
    "data[\"Price\"]=data[\"Price\"].str.replace(\" \", \"\")\n",
    "data[\"Price\"].unique()"
   ]
  },
  {
   "cell_type": "markdown",
   "metadata": {
    "id": "-nnIHd66Phiv"
   },
   "source": [
    "## Genre Preprocessing"
   ]
  },
  {
   "cell_type": "markdown",
   "metadata": {
    "id": "GQPOmYz4DLyQ"
   },
   "source": [
    "We have used one hot encoding for the genre data."
   ]
  },
  {
   "cell_type": "code",
   "execution_count": null,
   "metadata": {
    "colab": {
     "base_uri": "https://localhost:8080/"
    },
    "id": "6Vgl0cpfPg-x",
    "outputId": "1a3d6e70-dba6-4f27-da36-448f621f97ab"
   },
   "outputs": [
    {
     "data": {
      "text/plain": [
       "array(['Arcade', 'Action', 'Simulation', 'Board', 'Strategy', 'Casual',\n",
       "       'Role Playing', 'Educational', 'Puzzle', 'Sports', 'Casino',\n",
       "       'Card', 'Racing', 'Adventure', 'Music', 'Word', 'Trivia'],\n",
       "      dtype=object)"
      ]
     },
     "execution_count": 33,
     "metadata": {},
     "output_type": "execute_result"
    }
   ],
   "source": [
    "data[\"Genre\"].unique()"
   ]
  },
  {
   "cell_type": "code",
   "execution_count": null,
   "metadata": {
    "id": "SIi19stAP2PB"
   },
   "outputs": [],
   "source": [
    "data = pd.get_dummies(data,prefix=\"Genre\",columns=[\"Genre\"])"
   ]
  },
  {
   "cell_type": "markdown",
   "metadata": {
    "id": "6ACGRH12-Gmx"
   },
   "source": [
    "## Updated Preprocessing"
   ]
  },
  {
   "cell_type": "markdown",
   "metadata": {
    "id": "KE6MDSzwDVMd"
   },
   "source": [
    "We have converted updated date data to a pandas datetime object."
   ]
  },
  {
   "cell_type": "code",
   "execution_count": null,
   "metadata": {
    "id": "8P4tdpYh-Gmx"
   },
   "outputs": [],
   "source": [
    "data['Updated'] = pd.to_datetime(data['Updated'])"
   ]
  },
  {
   "cell_type": "markdown",
   "metadata": {
    "id": "muYVcauRDc8G"
   },
   "source": [
    "Then, calculated how many days ago the game was updated."
   ]
  },
  {
   "cell_type": "code",
   "execution_count": null,
   "metadata": {
    "id": "GYmkV-jC-Gmx"
   },
   "outputs": [],
   "source": [
    "delta = pd.Timestamp.today() - data['Updated']\n",
    "data['Updated x Days Ago'] = delta.dt.days"
   ]
  },
  {
   "cell_type": "code",
   "execution_count": null,
   "metadata": {
    "id": "-TINbK-V-Gmx"
   },
   "outputs": [],
   "source": [
    "data.drop(\"Updated\", axis=1, inplace=True)"
   ]
  },
  {
   "cell_type": "markdown",
   "metadata": {
    "id": "ZvoBuTq6Bvxl"
   },
   "source": [
    "## Content Rating Preprocessing"
   ]
  },
  {
   "cell_type": "markdown",
   "metadata": {
    "id": "D5xMG5LJD3dj"
   },
   "source": [
    "We have split the content rating string to individual ratings."
   ]
  },
  {
   "cell_type": "code",
   "execution_count": null,
   "metadata": {
    "id": "5UDGwZ9sBvxl"
   },
   "outputs": [],
   "source": [
    "ratings = []\n",
    "for string in data[\"Content Rating\"].unique():\n",
    "    for rating in string.split(\", \"):\n",
    "        for i in rating.split(\",\"):\n",
    "            if i not in ratings:\n",
    "                ratings.append(i)"
   ]
  },
  {
   "cell_type": "markdown",
   "metadata": {
    "id": "p3kQoAuaEGpq"
   },
   "source": [
    "Then, we have categorized and sorted the ratings into 7 main categories. Bigger the index, higher the number it takes."
   ]
  },
  {
   "cell_type": "code",
   "execution_count": null,
   "metadata": {
    "id": "tAUnh7OeBvxm"
   },
   "outputs": [],
   "source": [
    "rating_categories = {\n",
    "    \"Age\" : ['Everyone','Everyone 10+','Teen', 'Mature 17+'],\n",
    "    \"Violance\": ['Cartoon Violence', 'Violent References', 'Mild Fantasy Violence','Fantasy Violence','Mild Violence', 'Violence', 'Intense Violence','Mild Blood', 'Blood', 'Blood and Gore'],\n",
    "    \"Language\": ['Mild Lyrics', 'Mild Language', 'Language', 'Strong Language'],\n",
    "    \"Sexual\": ['Partial Nudity', 'Nudity', 'Sexual Themes', 'Sexual Content','Strong Sexual Content'],\n",
    "    \"Gambling\": ['Simulated Gambling',],\n",
    "    \"Others\": ['Mild Suggestive Themes', 'Suggestive Themes', 'Comic Mischief', 'Crude Humor']\n",
    "}\n",
    "\n",
    "addictive_substance = ['Drug Reference','Alcohol and Tobacco Reference','Tobacco Reference','Use of Alcohol','Use of Drugs and Alcohol', 'Use of Drugs', 'Drug and Alcohol Reference','Use of Tobacco','Alcohol Reference']"
   ]
  },
  {
   "cell_type": "code",
   "execution_count": null,
   "metadata": {
    "id": "PochRVEGBvxm"
   },
   "outputs": [],
   "source": [
    "for category in rating_categories.keys():\n",
    "    cat_name = \"R - \" + category\n",
    "    data[cat_name] = 0\n",
    "    for row in range(data.shape[0]):\n",
    "        for label in rating_categories[category][::-1]:\n",
    "            if label in [x.strip() for x in data.loc[row, \"Content Rating\"].split(\",\")]:\n",
    "                data.loc[row, cat_name] = rating_categories[category].index(label) +1\n",
    "                break"
   ]
  },
  {
   "cell_type": "markdown",
   "metadata": {
    "id": "Wzxq95lOEkYU"
   },
   "source": [
    "For addictive substance category, we've only checked if it existed (1) or not (0). "
   ]
  },
  {
   "cell_type": "code",
   "execution_count": null,
   "metadata": {
    "id": "CwHLnQYS-Gmy"
   },
   "outputs": [],
   "source": [
    "data[\"R - Addictive Substance\"] = 0\n",
    "\n",
    "for row in range(data.shape[0]):\n",
    "    for label in addictive_substance:\n",
    "        if label in [x.strip() for x in data.loc[row, \"Content Rating\"].split(\",\")]:\n",
    "            data.loc[row, \"R - Addictive Substance\"] = 1\n",
    "            break"
   ]
  },
  {
   "cell_type": "markdown",
   "metadata": {
    "id": "CW3kppVyE2wL"
   },
   "source": [
    "Lastly, we have dropped unprocessed column."
   ]
  },
  {
   "cell_type": "code",
   "execution_count": null,
   "metadata": {
    "id": "I6gRXu6D-Gmy"
   },
   "outputs": [],
   "source": [
    "data.drop(\"Content Rating\", axis=1, inplace=True)"
   ]
  },
  {
   "cell_type": "markdown",
   "metadata": {
    "id": "B37tLcas-Gmy"
   },
   "source": [
    "## Number of Rating Preprocessing"
   ]
  },
  {
   "cell_type": "markdown",
   "metadata": {
    "id": "vBMYzltLE-II"
   },
   "source": [
    "Although we will drop this column in the future (since it is not used), we have removed \",\" anyway."
   ]
  },
  {
   "cell_type": "code",
   "execution_count": null,
   "metadata": {
    "id": "blJDF5e4-Gmy"
   },
   "outputs": [],
   "source": [
    "data[\"Number of Rating\"] = data[\"Number of Rating\"].str.replace(\",\", \"\")"
   ]
  },
  {
   "cell_type": "markdown",
   "metadata": {
    "id": "6Zv_jknP-Gmy"
   },
   "source": [
    "## Dropping Unused Columns & Writing X,y to csv"
   ]
  },
  {
   "cell_type": "code",
   "execution_count": null,
   "metadata": {
    "id": "q70dNcRp-Gmz"
   },
   "outputs": [],
   "source": [
    "data.drop([\"Name\", \"Description\", \"Current Version\", \"Rating\", \"Installs\"], axis=1, inplace=True)"
   ]
  },
  {
   "cell_type": "markdown",
   "metadata": {
    "id": "N6NfAUdVF74V"
   },
   "source": [
    "We have written processed features to x_values.csv"
   ]
  },
  {
   "cell_type": "code",
   "execution_count": null,
   "metadata": {
    "id": "R2BTcdb9-Gmz"
   },
   "outputs": [],
   "source": [
    "data.astype(\"float32\").to_csv(\"x_values.csv\")"
   ]
  },
  {
   "cell_type": "code",
   "execution_count": null,
   "metadata": {
    "id": "NFgS9eHh-Gmz"
   },
   "outputs": [],
   "source": [
    "data = pd.read_csv(\"data.csv\", index_col=0)"
   ]
  },
  {
   "cell_type": "code",
   "execution_count": null,
   "metadata": {
    "id": "8fPTrr8m-Gmz"
   },
   "outputs": [],
   "source": [
    "categories = data[\"Installs\"].str.replace(\"+\",\"\", regex=False)"
   ]
  },
  {
   "cell_type": "code",
   "execution_count": null,
   "metadata": {
    "id": "ADEkk58i-Gmz"
   },
   "outputs": [],
   "source": [
    "categories = categories.str.replace(\",\",\"\", regex=False).unique()"
   ]
  },
  {
   "cell_type": "markdown",
   "metadata": {
    "id": "nkWyYXXyFOXK"
   },
   "source": [
    "Installs are given as categories, such as 100+, 5000+. Therefore, we will create a classification model."
   ]
  },
  {
   "cell_type": "code",
   "execution_count": null,
   "metadata": {
    "colab": {
     "base_uri": "https://localhost:8080/"
    },
    "id": "h_5JawhX-Gmz",
    "outputId": "5d3043c1-f8a5-4b4e-d6b8-9f2bd3348a5c"
   },
   "outputs": [
    {
     "data": {
      "text/plain": [
       "array([       100,        500,       1000,       5000,      10000,\n",
       "            50000,     100000,     500000,    1000000,    5000000,\n",
       "         10000000,   50000000,  100000000,  500000000, 1000000000],\n",
       "      dtype=int32)"
      ]
     },
     "execution_count": 50,
     "metadata": {},
     "output_type": "execute_result"
    }
   ],
   "source": [
    "categories = categories.astype(\"int32\")\n",
    "categories.sort()\n",
    "categories"
   ]
  },
  {
   "cell_type": "markdown",
   "metadata": {
    "id": "3FjxtvpnFlsO"
   },
   "source": [
    "Then, we have given a number between 0 and 14 (inclusive) to represent the install categories above."
   ]
  },
  {
   "cell_type": "code",
   "execution_count": null,
   "metadata": {
    "id": "yQxNrsMu-Gmz"
   },
   "outputs": [],
   "source": [
    "y_values = data[\"Installs\"].str.replace(\"+\",\"\", regex=False)\n",
    "y_values = y_values.str.replace(\",\",\"\", regex=False)\n",
    "y_values = y_values.astype(\"int32\")\n",
    "for i in range(y_values.shape[0]):\n",
    "    y_values.loc[i] = list(categories).index(y_values.loc[i])"
   ]
  },
  {
   "cell_type": "code",
   "execution_count": null,
   "metadata": {
    "colab": {
     "base_uri": "https://localhost:8080/"
    },
    "id": "wv15P9sZ-Gmz",
    "outputId": "00b0c9ec-8c07-4e9f-9497-fc2dd81d39b8"
   },
   "outputs": [
    {
     "data": {
      "text/plain": [
       "ID\n",
       "0       12\n",
       "1       10\n",
       "2        4\n",
       "3        7\n",
       "4        7\n",
       "        ..\n",
       "2364    10\n",
       "2365    10\n",
       "2366     7\n",
       "2367     8\n",
       "2368     9\n",
       "Name: Installs, Length: 2369, dtype: int32"
      ]
     },
     "execution_count": 52,
     "metadata": {},
     "output_type": "execute_result"
    }
   ],
   "source": [
    "y_values"
   ]
  },
  {
   "cell_type": "markdown",
   "metadata": {
    "id": "jnI1xYmnF0e6"
   },
   "source": [
    "We have written processed labels to y_values.csv"
   ]
  },
  {
   "cell_type": "code",
   "execution_count": null,
   "metadata": {
    "id": "hc88ik0n-Gm0"
   },
   "outputs": [],
   "source": [
    "data[\"Installs\"].to_csv(\"y_values.csv\")"
   ]
  },
  {
   "cell_type": "code",
   "execution_count": null,
   "metadata": {
    "colab": {
     "base_uri": "https://localhost:8080/",
     "height": 371
    },
    "id": "wqyV1iAZ-Gm0",
    "outputId": "5622f550-a819-4aaf-a9dc-a85a232de8bf"
   },
   "outputs": [
    {
     "data": {
      "text/html": [
       "\n",
       "  <div id=\"df-392b1ca1-1b4e-4f78-88a4-0b0526d3507e\">\n",
       "    <div class=\"colab-df-container\">\n",
       "      <div>\n",
       "<style scoped>\n",
       "    .dataframe tbody tr th:only-of-type {\n",
       "        vertical-align: middle;\n",
       "    }\n",
       "\n",
       "    .dataframe tbody tr th {\n",
       "        vertical-align: top;\n",
       "    }\n",
       "\n",
       "    .dataframe thead th {\n",
       "        text-align: right;\n",
       "    }\n",
       "</style>\n",
       "<table border=\"1\" class=\"dataframe\">\n",
       "  <thead>\n",
       "    <tr style=\"text-align: right;\">\n",
       "      <th></th>\n",
       "      <th>Number of Rating</th>\n",
       "      <th>Price</th>\n",
       "      <th>Size</th>\n",
       "      <th>Requires Android</th>\n",
       "      <th>Min In_app Products</th>\n",
       "      <th>Max In_app Products</th>\n",
       "      <th>Digital Purchases</th>\n",
       "      <th>Users Interact</th>\n",
       "      <th>In-Game Purchases</th>\n",
       "      <th>Shares Location</th>\n",
       "      <th>Shares Info</th>\n",
       "      <th>In-Game Purchases (Includes Random Items)</th>\n",
       "      <th>In-App Purchases</th>\n",
       "      <th>Number of Games Offered By Producer</th>\n",
       "      <th>Genre_Action</th>\n",
       "      <th>Genre_Adventure</th>\n",
       "      <th>Genre_Arcade</th>\n",
       "      <th>Genre_Board</th>\n",
       "      <th>Genre_Card</th>\n",
       "      <th>Genre_Casino</th>\n",
       "      <th>Genre_Casual</th>\n",
       "      <th>Genre_Educational</th>\n",
       "      <th>Genre_Music</th>\n",
       "      <th>Genre_Puzzle</th>\n",
       "      <th>Genre_Racing</th>\n",
       "      <th>Genre_Role Playing</th>\n",
       "      <th>Genre_Simulation</th>\n",
       "      <th>Genre_Sports</th>\n",
       "      <th>Genre_Strategy</th>\n",
       "      <th>Genre_Trivia</th>\n",
       "      <th>Genre_Word</th>\n",
       "      <th>Updated x Days Ago</th>\n",
       "      <th>R - Age</th>\n",
       "      <th>R - Violance</th>\n",
       "      <th>R - Language</th>\n",
       "      <th>R - Sexual</th>\n",
       "      <th>R - Gambling</th>\n",
       "      <th>R - Others</th>\n",
       "      <th>R - Addictive Substance</th>\n",
       "    </tr>\n",
       "    <tr>\n",
       "      <th>ID</th>\n",
       "      <th></th>\n",
       "      <th></th>\n",
       "      <th></th>\n",
       "      <th></th>\n",
       "      <th></th>\n",
       "      <th></th>\n",
       "      <th></th>\n",
       "      <th></th>\n",
       "      <th></th>\n",
       "      <th></th>\n",
       "      <th></th>\n",
       "      <th></th>\n",
       "      <th></th>\n",
       "      <th></th>\n",
       "      <th></th>\n",
       "      <th></th>\n",
       "      <th></th>\n",
       "      <th></th>\n",
       "      <th></th>\n",
       "      <th></th>\n",
       "      <th></th>\n",
       "      <th></th>\n",
       "      <th></th>\n",
       "      <th></th>\n",
       "      <th></th>\n",
       "      <th></th>\n",
       "      <th></th>\n",
       "      <th></th>\n",
       "      <th></th>\n",
       "      <th></th>\n",
       "      <th></th>\n",
       "      <th></th>\n",
       "      <th></th>\n",
       "      <th></th>\n",
       "      <th></th>\n",
       "      <th></th>\n",
       "      <th></th>\n",
       "      <th></th>\n",
       "      <th></th>\n",
       "    </tr>\n",
       "  </thead>\n",
       "  <tbody>\n",
       "    <tr>\n",
       "      <th>0</th>\n",
       "      <td>7227039.0</td>\n",
       "      <td>0.00</td>\n",
       "      <td>58.0</td>\n",
       "      <td>4.0</td>\n",
       "      <td>0.00</td>\n",
       "      <td>0.00</td>\n",
       "      <td>0.0</td>\n",
       "      <td>0.0</td>\n",
       "      <td>0.0</td>\n",
       "      <td>0.0</td>\n",
       "      <td>0.0</td>\n",
       "      <td>0.0</td>\n",
       "      <td>0.0</td>\n",
       "      <td>5.0</td>\n",
       "      <td>0.0</td>\n",
       "      <td>0.0</td>\n",
       "      <td>1.0</td>\n",
       "      <td>0.0</td>\n",
       "      <td>0.0</td>\n",
       "      <td>0.0</td>\n",
       "      <td>0.0</td>\n",
       "      <td>0.0</td>\n",
       "      <td>0.0</td>\n",
       "      <td>0.0</td>\n",
       "      <td>0.0</td>\n",
       "      <td>0.0</td>\n",
       "      <td>0.0</td>\n",
       "      <td>0.0</td>\n",
       "      <td>0.0</td>\n",
       "      <td>0.0</td>\n",
       "      <td>0.0</td>\n",
       "      <td>915.0</td>\n",
       "      <td>1.0</td>\n",
       "      <td>0.0</td>\n",
       "      <td>0.0</td>\n",
       "      <td>0.0</td>\n",
       "      <td>0.0</td>\n",
       "      <td>0.0</td>\n",
       "      <td>0.0</td>\n",
       "    </tr>\n",
       "    <tr>\n",
       "      <th>1</th>\n",
       "      <td>621784.0</td>\n",
       "      <td>0.00</td>\n",
       "      <td>92.0</td>\n",
       "      <td>4.4</td>\n",
       "      <td>0.99</td>\n",
       "      <td>99.99</td>\n",
       "      <td>1.0</td>\n",
       "      <td>0.0</td>\n",
       "      <td>0.0</td>\n",
       "      <td>0.0</td>\n",
       "      <td>0.0</td>\n",
       "      <td>0.0</td>\n",
       "      <td>0.0</td>\n",
       "      <td>3.0</td>\n",
       "      <td>1.0</td>\n",
       "      <td>0.0</td>\n",
       "      <td>0.0</td>\n",
       "      <td>0.0</td>\n",
       "      <td>0.0</td>\n",
       "      <td>0.0</td>\n",
       "      <td>0.0</td>\n",
       "      <td>0.0</td>\n",
       "      <td>0.0</td>\n",
       "      <td>0.0</td>\n",
       "      <td>0.0</td>\n",
       "      <td>0.0</td>\n",
       "      <td>0.0</td>\n",
       "      <td>0.0</td>\n",
       "      <td>0.0</td>\n",
       "      <td>0.0</td>\n",
       "      <td>0.0</td>\n",
       "      <td>301.0</td>\n",
       "      <td>1.0</td>\n",
       "      <td>3.0</td>\n",
       "      <td>0.0</td>\n",
       "      <td>0.0</td>\n",
       "      <td>0.0</td>\n",
       "      <td>0.0</td>\n",
       "      <td>0.0</td>\n",
       "    </tr>\n",
       "    <tr>\n",
       "      <th>2</th>\n",
       "      <td>309.0</td>\n",
       "      <td>3.99</td>\n",
       "      <td>40.0</td>\n",
       "      <td>4.4</td>\n",
       "      <td>0.00</td>\n",
       "      <td>0.00</td>\n",
       "      <td>0.0</td>\n",
       "      <td>0.0</td>\n",
       "      <td>0.0</td>\n",
       "      <td>0.0</td>\n",
       "      <td>0.0</td>\n",
       "      <td>0.0</td>\n",
       "      <td>0.0</td>\n",
       "      <td>2.0</td>\n",
       "      <td>0.0</td>\n",
       "      <td>0.0</td>\n",
       "      <td>0.0</td>\n",
       "      <td>0.0</td>\n",
       "      <td>0.0</td>\n",
       "      <td>0.0</td>\n",
       "      <td>0.0</td>\n",
       "      <td>0.0</td>\n",
       "      <td>0.0</td>\n",
       "      <td>0.0</td>\n",
       "      <td>0.0</td>\n",
       "      <td>0.0</td>\n",
       "      <td>1.0</td>\n",
       "      <td>0.0</td>\n",
       "      <td>0.0</td>\n",
       "      <td>0.0</td>\n",
       "      <td>0.0</td>\n",
       "      <td>399.0</td>\n",
       "      <td>1.0</td>\n",
       "      <td>0.0</td>\n",
       "      <td>0.0</td>\n",
       "      <td>0.0</td>\n",
       "      <td>0.0</td>\n",
       "      <td>0.0</td>\n",
       "      <td>0.0</td>\n",
       "    </tr>\n",
       "    <tr>\n",
       "      <th>3</th>\n",
       "      <td>29305.0</td>\n",
       "      <td>0.00</td>\n",
       "      <td>80.0</td>\n",
       "      <td>7.0</td>\n",
       "      <td>0.99</td>\n",
       "      <td>29.99</td>\n",
       "      <td>1.0</td>\n",
       "      <td>1.0</td>\n",
       "      <td>0.0</td>\n",
       "      <td>0.0</td>\n",
       "      <td>0.0</td>\n",
       "      <td>0.0</td>\n",
       "      <td>0.0</td>\n",
       "      <td>1.0</td>\n",
       "      <td>0.0</td>\n",
       "      <td>0.0</td>\n",
       "      <td>0.0</td>\n",
       "      <td>1.0</td>\n",
       "      <td>0.0</td>\n",
       "      <td>0.0</td>\n",
       "      <td>0.0</td>\n",
       "      <td>0.0</td>\n",
       "      <td>0.0</td>\n",
       "      <td>0.0</td>\n",
       "      <td>0.0</td>\n",
       "      <td>0.0</td>\n",
       "      <td>0.0</td>\n",
       "      <td>0.0</td>\n",
       "      <td>0.0</td>\n",
       "      <td>0.0</td>\n",
       "      <td>0.0</td>\n",
       "      <td>1358.0</td>\n",
       "      <td>2.0</td>\n",
       "      <td>8.0</td>\n",
       "      <td>0.0</td>\n",
       "      <td>0.0</td>\n",
       "      <td>0.0</td>\n",
       "      <td>0.0</td>\n",
       "      <td>0.0</td>\n",
       "    </tr>\n",
       "    <tr>\n",
       "      <th>4</th>\n",
       "      <td>6613.0</td>\n",
       "      <td>0.00</td>\n",
       "      <td>148.0</td>\n",
       "      <td>4.4</td>\n",
       "      <td>1.99</td>\n",
       "      <td>79.99</td>\n",
       "      <td>0.0</td>\n",
       "      <td>0.0</td>\n",
       "      <td>1.0</td>\n",
       "      <td>0.0</td>\n",
       "      <td>0.0</td>\n",
       "      <td>0.0</td>\n",
       "      <td>0.0</td>\n",
       "      <td>4.0</td>\n",
       "      <td>0.0</td>\n",
       "      <td>0.0</td>\n",
       "      <td>0.0</td>\n",
       "      <td>0.0</td>\n",
       "      <td>0.0</td>\n",
       "      <td>0.0</td>\n",
       "      <td>0.0</td>\n",
       "      <td>0.0</td>\n",
       "      <td>0.0</td>\n",
       "      <td>0.0</td>\n",
       "      <td>0.0</td>\n",
       "      <td>0.0</td>\n",
       "      <td>1.0</td>\n",
       "      <td>0.0</td>\n",
       "      <td>0.0</td>\n",
       "      <td>0.0</td>\n",
       "      <td>0.0</td>\n",
       "      <td>79.0</td>\n",
       "      <td>1.0</td>\n",
       "      <td>0.0</td>\n",
       "      <td>0.0</td>\n",
       "      <td>0.0</td>\n",
       "      <td>0.0</td>\n",
       "      <td>0.0</td>\n",
       "      <td>0.0</td>\n",
       "    </tr>\n",
       "  </tbody>\n",
       "</table>\n",
       "</div>\n",
       "      <button class=\"colab-df-convert\" onclick=\"convertToInteractive('df-392b1ca1-1b4e-4f78-88a4-0b0526d3507e')\"\n",
       "              title=\"Convert this dataframe to an interactive table.\"\n",
       "              style=\"display:none;\">\n",
       "        \n",
       "  <svg xmlns=\"http://www.w3.org/2000/svg\" height=\"24px\"viewBox=\"0 0 24 24\"\n",
       "       width=\"24px\">\n",
       "    <path d=\"M0 0h24v24H0V0z\" fill=\"none\"/>\n",
       "    <path d=\"M18.56 5.44l.94 2.06.94-2.06 2.06-.94-2.06-.94-.94-2.06-.94 2.06-2.06.94zm-11 1L8.5 8.5l.94-2.06 2.06-.94-2.06-.94L8.5 2.5l-.94 2.06-2.06.94zm10 10l.94 2.06.94-2.06 2.06-.94-2.06-.94-.94-2.06-.94 2.06-2.06.94z\"/><path d=\"M17.41 7.96l-1.37-1.37c-.4-.4-.92-.59-1.43-.59-.52 0-1.04.2-1.43.59L10.3 9.45l-7.72 7.72c-.78.78-.78 2.05 0 2.83L4 21.41c.39.39.9.59 1.41.59.51 0 1.02-.2 1.41-.59l7.78-7.78 2.81-2.81c.8-.78.8-2.07 0-2.86zM5.41 20L4 18.59l7.72-7.72 1.47 1.35L5.41 20z\"/>\n",
       "  </svg>\n",
       "      </button>\n",
       "      \n",
       "  <style>\n",
       "    .colab-df-container {\n",
       "      display:flex;\n",
       "      flex-wrap:wrap;\n",
       "      gap: 12px;\n",
       "    }\n",
       "\n",
       "    .colab-df-convert {\n",
       "      background-color: #E8F0FE;\n",
       "      border: none;\n",
       "      border-radius: 50%;\n",
       "      cursor: pointer;\n",
       "      display: none;\n",
       "      fill: #1967D2;\n",
       "      height: 32px;\n",
       "      padding: 0 0 0 0;\n",
       "      width: 32px;\n",
       "    }\n",
       "\n",
       "    .colab-df-convert:hover {\n",
       "      background-color: #E2EBFA;\n",
       "      box-shadow: 0px 1px 2px rgba(60, 64, 67, 0.3), 0px 1px 3px 1px rgba(60, 64, 67, 0.15);\n",
       "      fill: #174EA6;\n",
       "    }\n",
       "\n",
       "    [theme=dark] .colab-df-convert {\n",
       "      background-color: #3B4455;\n",
       "      fill: #D2E3FC;\n",
       "    }\n",
       "\n",
       "    [theme=dark] .colab-df-convert:hover {\n",
       "      background-color: #434B5C;\n",
       "      box-shadow: 0px 1px 3px 1px rgba(0, 0, 0, 0.15);\n",
       "      filter: drop-shadow(0px 1px 2px rgba(0, 0, 0, 0.3));\n",
       "      fill: #FFFFFF;\n",
       "    }\n",
       "  </style>\n",
       "\n",
       "      <script>\n",
       "        const buttonEl =\n",
       "          document.querySelector('#df-392b1ca1-1b4e-4f78-88a4-0b0526d3507e button.colab-df-convert');\n",
       "        buttonEl.style.display =\n",
       "          google.colab.kernel.accessAllowed ? 'block' : 'none';\n",
       "\n",
       "        async function convertToInteractive(key) {\n",
       "          const element = document.querySelector('#df-392b1ca1-1b4e-4f78-88a4-0b0526d3507e');\n",
       "          const dataTable =\n",
       "            await google.colab.kernel.invokeFunction('convertToInteractive',\n",
       "                                                     [key], {});\n",
       "          if (!dataTable) return;\n",
       "\n",
       "          const docLinkHtml = 'Like what you see? Visit the ' +\n",
       "            '<a target=\"_blank\" href=https://colab.research.google.com/notebooks/data_table.ipynb>data table notebook</a>'\n",
       "            + ' to learn more about interactive tables.';\n",
       "          element.innerHTML = '';\n",
       "          dataTable['output_type'] = 'display_data';\n",
       "          await google.colab.output.renderOutput(dataTable, element);\n",
       "          const docLink = document.createElement('div');\n",
       "          docLink.innerHTML = docLinkHtml;\n",
       "          element.appendChild(docLink);\n",
       "        }\n",
       "      </script>\n",
       "    </div>\n",
       "  </div>\n",
       "  "
      ],
      "text/plain": [
       "    Number of Rating  Price   Size  Requires Android  Min In_app Products  \\\n",
       "ID                                                                          \n",
       "0          7227039.0   0.00   58.0               4.0                 0.00   \n",
       "1           621784.0   0.00   92.0               4.4                 0.99   \n",
       "2              309.0   3.99   40.0               4.4                 0.00   \n",
       "3            29305.0   0.00   80.0               7.0                 0.99   \n",
       "4             6613.0   0.00  148.0               4.4                 1.99   \n",
       "\n",
       "    Max In_app Products  Digital Purchases  Users Interact  In-Game Purchases  \\\n",
       "ID                                                                              \n",
       "0                  0.00                0.0             0.0                0.0   \n",
       "1                 99.99                1.0             0.0                0.0   \n",
       "2                  0.00                0.0             0.0                0.0   \n",
       "3                 29.99                1.0             1.0                0.0   \n",
       "4                 79.99                0.0             0.0                1.0   \n",
       "\n",
       "    Shares Location  Shares Info  In-Game Purchases (Includes Random Items)  \\\n",
       "ID                                                                            \n",
       "0               0.0          0.0                                        0.0   \n",
       "1               0.0          0.0                                        0.0   \n",
       "2               0.0          0.0                                        0.0   \n",
       "3               0.0          0.0                                        0.0   \n",
       "4               0.0          0.0                                        0.0   \n",
       "\n",
       "    In-App Purchases  Number of Games Offered By Producer  Genre_Action  \\\n",
       "ID                                                                        \n",
       "0                0.0                                  5.0           0.0   \n",
       "1                0.0                                  3.0           1.0   \n",
       "2                0.0                                  2.0           0.0   \n",
       "3                0.0                                  1.0           0.0   \n",
       "4                0.0                                  4.0           0.0   \n",
       "\n",
       "    Genre_Adventure  Genre_Arcade  Genre_Board  Genre_Card  Genre_Casino  \\\n",
       "ID                                                                         \n",
       "0               0.0           1.0          0.0         0.0           0.0   \n",
       "1               0.0           0.0          0.0         0.0           0.0   \n",
       "2               0.0           0.0          0.0         0.0           0.0   \n",
       "3               0.0           0.0          1.0         0.0           0.0   \n",
       "4               0.0           0.0          0.0         0.0           0.0   \n",
       "\n",
       "    Genre_Casual  Genre_Educational  Genre_Music  Genre_Puzzle  Genre_Racing  \\\n",
       "ID                                                                             \n",
       "0            0.0                0.0          0.0           0.0           0.0   \n",
       "1            0.0                0.0          0.0           0.0           0.0   \n",
       "2            0.0                0.0          0.0           0.0           0.0   \n",
       "3            0.0                0.0          0.0           0.0           0.0   \n",
       "4            0.0                0.0          0.0           0.0           0.0   \n",
       "\n",
       "    Genre_Role Playing  Genre_Simulation  Genre_Sports  Genre_Strategy  \\\n",
       "ID                                                                       \n",
       "0                  0.0               0.0           0.0             0.0   \n",
       "1                  0.0               0.0           0.0             0.0   \n",
       "2                  0.0               1.0           0.0             0.0   \n",
       "3                  0.0               0.0           0.0             0.0   \n",
       "4                  0.0               1.0           0.0             0.0   \n",
       "\n",
       "    Genre_Trivia  Genre_Word  Updated x Days Ago  R - Age  R - Violance  \\\n",
       "ID                                                                        \n",
       "0            0.0         0.0               915.0      1.0           0.0   \n",
       "1            0.0         0.0               301.0      1.0           3.0   \n",
       "2            0.0         0.0               399.0      1.0           0.0   \n",
       "3            0.0         0.0              1358.0      2.0           8.0   \n",
       "4            0.0         0.0                79.0      1.0           0.0   \n",
       "\n",
       "    R - Language  R - Sexual  R - Gambling  R - Others  \\\n",
       "ID                                                       \n",
       "0            0.0         0.0           0.0         0.0   \n",
       "1            0.0         0.0           0.0         0.0   \n",
       "2            0.0         0.0           0.0         0.0   \n",
       "3            0.0         0.0           0.0         0.0   \n",
       "4            0.0         0.0           0.0         0.0   \n",
       "\n",
       "    R - Addictive Substance  \n",
       "ID                           \n",
       "0                       0.0  \n",
       "1                       0.0  \n",
       "2                       0.0  \n",
       "3                       0.0  \n",
       "4                       0.0  "
      ]
     },
     "execution_count": 54,
     "metadata": {},
     "output_type": "execute_result"
    }
   ],
   "source": [
    "pd.read_csv(\"x_values.csv\", index_col=0).head()"
   ]
  },
  {
   "cell_type": "markdown",
   "metadata": {
    "id": "taUDDxnK-Gm0"
   },
   "source": [
    "# Deep Neural Network"
   ]
  },
  {
   "cell_type": "code",
   "execution_count": null,
   "metadata": {
    "id": "bcKQd9fm-Gm0"
   },
   "outputs": [],
   "source": [
    "X = pd.read_csv(\"x_values.csv\", index_col=0).values\n",
    "y = y_values"
   ]
  },
  {
   "cell_type": "markdown",
   "metadata": {
    "id": "XTr_oqLqGNuH"
   },
   "source": [
    "We have randomly selected ids (indexes) to split image and non-image data into train, validation and test sets with the sizes of 1250, 500 and 619 respectively."
   ]
  },
  {
   "cell_type": "code",
   "execution_count": null,
   "metadata": {
    "id": "amK1y8ik-Gm0"
   },
   "outputs": [],
   "source": [
    "ids = np.arange(X.shape[0])\n",
    "train_ids = np.random.choice(ids, size= 1250, replace=False)\n",
    "ids = np.setdiff1d(ids, train_ids)\n",
    "validation_ids = np.random.choice(ids, size= 500, replace=False)\n",
    "test_ids = np.setdiff1d(ids, validation_ids)"
   ]
  },
  {
   "cell_type": "markdown",
   "metadata": {
    "id": "DsA832e7GqxZ"
   },
   "source": [
    "We have split the the non image data to train, validation and test sets."
   ]
  },
  {
   "cell_type": "code",
   "execution_count": null,
   "metadata": {
    "id": "UZWguhrQ-Gm0"
   },
   "outputs": [],
   "source": [
    "def train_test_val_split(X,y):\n",
    "    X_train = []\n",
    "    X_test = []\n",
    "    X_val = []\n",
    "    y_train = []\n",
    "    y_test = []\n",
    "    y_val = []\n",
    "\n",
    "    for i in range(X.shape[0]):\n",
    "        if i in train_ids:\n",
    "            X_train.append(X[i])\n",
    "            y_train.append(y[i])\n",
    "        elif i in validation_ids:\n",
    "            X_val.append(X[i])\n",
    "            y_val.append(y[i])\n",
    "        else:\n",
    "            X_test.append(X[i])\n",
    "            y_test.append(y[i])\n",
    "            \n",
    "    return np.array(X_train ,dtype=object).astype(\"float32\"), np.array(X_test ,dtype=object).astype(\"float32\"), np.array(X_val ,dtype=object).astype(\"float32\"), np.array(y_train ,dtype=object).astype(\"float32\"), np.array(y_test ,dtype=object).astype(\"float32\"), np.array(y_val ,dtype=object).astype(\"float32\")"
   ]
  },
  {
   "cell_type": "code",
   "execution_count": null,
   "metadata": {
    "id": "9-DykBUG-Gm0"
   },
   "outputs": [],
   "source": [
    "X_train, X_test, X_val, y_train, y_test, y_val = train_test_val_split(X, y)"
   ]
  },
  {
   "cell_type": "markdown",
   "metadata": {
    "id": "lAGmLMKEGyVq"
   },
   "source": [
    "We have normalized each set with the parameters of the train set."
   ]
  },
  {
   "cell_type": "code",
   "execution_count": null,
   "metadata": {
    "id": "O2Ncqcl8-Gm0"
   },
   "outputs": [],
   "source": [
    "mu = X_train.mean(axis = 0)\n",
    "sigma = X_train.std(axis = 0)\n",
    "\n",
    "X_train = (X_train - mu) / sigma\n",
    "X_test = (X_test - mu) / sigma\n",
    "X_val = (X_val - mu) / sigma"
   ]
  },
  {
   "cell_type": "code",
   "execution_count": null,
   "metadata": {
    "id": "QxZZipPn-Gm0"
   },
   "outputs": [],
   "source": [
    "class_number = len(set(y))"
   ]
  },
  {
   "cell_type": "markdown",
   "metadata": {
    "id": "_lz4qIV0HIMR"
   },
   "source": [
    "We have created a deep neural network for non image features with three hidden layers. It does not have an output layers since it will be conneted with CNNs at a concatenate layer."
   ]
  },
  {
   "cell_type": "code",
   "execution_count": null,
   "metadata": {
    "id": "1UZBJLh3-Gm1"
   },
   "outputs": [],
   "source": [
    "dnn_input = tf.keras.layers.Input(shape=(X_train.shape[1], ), name=\"dnn_input\")\n",
    "hidden1 = tf.keras.layers.Dense(256, name=\"First_Hidden\", activation=\"swish\")(dnn_input)\n",
    "hidden2 = tf.keras.layers.Dense(128, name=\"Second_Hidden\", activation=\"swish\")(hidden1)\n",
    "hidden3 = tf.keras.layers.Dense(64, name=\"Third_Hidden\", activation=\"swish\")(hidden2)"
   ]
  },
  {
   "cell_type": "markdown",
   "metadata": {
    "id": "FVc8SJwR-Gm1"
   },
   "source": [
    "# Convolutional Neural Network for Icon"
   ]
  },
  {
   "cell_type": "markdown",
   "metadata": {
    "id": "TKHD1JwnHjqf"
   },
   "source": [
    "We have stored image data at Google Drive so that we can use them in Google Colab without needing to upload them each time."
   ]
  },
  {
   "cell_type": "code",
   "execution_count": null,
   "metadata": {
    "colab": {
     "base_uri": "https://localhost:8080/"
    },
    "id": "hyHJ_bFuS0HO",
    "outputId": "24a7310a-add2-4920-c0e3-8d1efcd1c2c3"
   },
   "outputs": [
    {
     "name": "stdout",
     "output_type": "stream",
     "text": [
      "Drive already mounted at /content/drive/; to attempt to forcibly remount, call drive.mount(\"/content/drive/\", force_remount=True).\n"
     ]
    }
   ],
   "source": [
    "from google.colab import drive\n",
    "drive.mount('/content/drive/')"
   ]
  },
  {
   "cell_type": "markdown",
   "metadata": {
    "id": "Tk8miw0qH0eV"
   },
   "source": [
    "We have imported the necessary image and directory handling libraries. "
   ]
  },
  {
   "cell_type": "code",
   "execution_count": null,
   "metadata": {
    "id": "DzWm_C61-Gm1"
   },
   "outputs": [],
   "source": [
    "from PIL import Image\n",
    "import os, shutil, pathlib\n",
    "icon_folder = os.getcwd() / pathlib.Path(\"drive/MyDrive/icon\")\n",
    "jpg_icon_folder = os.getcwd()/ pathlib.Path(\"jpg_icon\")\n",
    "\n",
    "video_folder = os.getcwd() / pathlib.Path(\"drive/Othercomputers/Dizüstü Bilgisayarım/6. Dönem/END 439E - Neural Network Models in Indsutrial Systems/Project/Part 2/video\")\n",
    "jpg_video_folder = os.getcwd()/ pathlib.Path(\"jpg_video\")"
   ]
  },
  {
   "cell_type": "markdown",
   "metadata": {
    "id": "AQN8SFvEH-tt"
   },
   "source": [
    "We have converted .webp images to .jpg images. Then, resized icons and videos to their half sizes."
   ]
  },
  {
   "cell_type": "code",
   "execution_count": null,
   "metadata": {
    "colab": {
     "base_uri": "https://localhost:8080/"
    },
    "id": "7RQrBBj7-Gm1",
    "outputId": "eb26980b-39c2-43a3-9139-dc92426c84a1",
    "scrolled": true
   },
   "outputs": [],
   "source": [
    "# Conversion for icons\n",
    "os.makedirs(os.getcwd() / pathlib.Path(\"jpg_icon\"), exist_ok=True)\n",
    "icon_list = os.listdir(icon_folder)\n",
    "for icon in [f\"{i}_icon.webp\" for i in range(2369)]:\n",
    "    image = Image.open(icon_folder / pathlib.Path(icon)).convert(\"RGB\")\n",
    "    image = image.resize((180,180))\n",
    "    image.save(jpg_icon_folder / pathlib.Path(icon.replace(\"webp\", \"jpg\")), \"jpeg\")"
   ]
  },
  {
   "cell_type": "code",
   "execution_count": null,
   "metadata": {
    "colab": {
     "base_uri": "https://localhost:8080/"
    },
    "id": "FAK4_3XrW3ZT",
    "outputId": "ec139ee5-a8a7-43d7-a19d-98b593980af3",
    "scrolled": true
   },
   "outputs": [],
   "source": [
    "# Conversion for videos\n",
    "os.makedirs(os.getcwd() / pathlib.Path(\"jpg_video\"), exist_ok=True)\n",
    "video_list = os.listdir(video_folder)\n",
    "for video in [f\"{i}_video.webp\" for i in range(2369)]:\n",
    "    image = Image.open(video_folder / pathlib.Path(video)).convert(\"RGB\")\n",
    "    image = image.resize((512,250))\n",
    "    image.save(jpg_video_folder / pathlib.Path(video.replace(\"webp\", \"jpg\")), \"jpeg\")"
   ]
  },
  {
   "cell_type": "markdown",
   "metadata": {
    "id": "kylEVD5_IbFX"
   },
   "source": [
    "Then, we have split the icons and videos to train, test and validation directories."
   ]
  },
  {
   "cell_type": "code",
   "execution_count": null,
   "metadata": {
    "id": "AwzBQ1Pej15v"
   },
   "outputs": [],
   "source": [
    "def make_subset_for_icon(subset_name, id_list):\n",
    "    subset_folder = os.getcwd() / pathlib.Path(\"icon_subsets\") / subset_name\n",
    "    os.makedirs(subset_folder, exist_ok=True)\n",
    "        \n",
    "    for fname in [f\"{i}_icon.jpg\" for i in id_list]:\n",
    "        shutil.copyfile(src=jpg_icon_folder/ fname, dst=subset_folder / fname)\n",
    "        \n",
    "make_subset_for_icon(\"train\", train_ids)\n",
    "make_subset_for_icon(\"validation\", validation_ids)\n",
    "make_subset_for_icon(\"test\", test_ids)"
   ]
  },
  {
   "cell_type": "code",
   "execution_count": null,
   "metadata": {
    "id": "IV-neb5kaZLE"
   },
   "outputs": [],
   "source": [
    "def make_subset_for_video(subset_name, id_list):\n",
    "    subset_folder = os.getcwd() / pathlib.Path(\"video_subsets\") / subset_name\n",
    "    os.makedirs(subset_folder, exist_ok=True)\n",
    "        \n",
    "    for fname in [f\"{i}_video.jpg\" for i in id_list]:\n",
    "        shutil.copyfile(src=jpg_video_folder/ fname, dst=subset_folder / fname)\n",
    "        \n",
    "make_subset_for_video(\"train\", train_ids)\n",
    "make_subset_for_video(\"validation\", validation_ids)\n",
    "make_subset_for_video(\"test\", test_ids)"
   ]
  },
  {
   "cell_type": "markdown",
   "metadata": {
    "id": "P1lYY_kYIi-b"
   },
   "source": [
    "We have written a custom generator function to create our dataset. This was needed because of multi input structure of our model and not being able to combine different batch datasets."
   ]
  },
  {
   "cell_type": "code",
   "execution_count": null,
   "metadata": {
    "id": "wae0gRySaxsX"
   },
   "outputs": [],
   "source": [
    "def combined_generator(icons_directory, videos_directory, X_array, y_array, batch_size, id_list):\n",
    "    while True:\n",
    "        for i in range(len(id_list)//batch_size):\n",
    "            start_index = batch_size*i\n",
    "            end_index = batch_size*(i+1)\n",
    "            icon_input_batch = []\n",
    "            video_input_batch = []\n",
    "            icon_filenames = [f\"{i}_icon.jpg\" for i in id_list[start_index : end_index]]\n",
    "            video_filenames = [f\"{i}_video.jpg\" for i in id_list[start_index : end_index]]\n",
    "\n",
    "            for iconame, videoname in zip(icon_filenames, video_filenames):\n",
    "                X_batch = X_array[start_index:end_index]\n",
    "                y_batch = y_array[start_index:end_index]\n",
    "                image = np.asarray(Image.open(icons_directory / pathlib.Path(iconame)))\n",
    "                icon_input_batch.append(image)\n",
    "                image = np.asarray(Image.open(videos_directory / pathlib.Path(videoname)))\n",
    "                video_input_batch.append(image)\n",
    "                     \n",
    "\n",
    "            icon_input_batch = np.array(icon_input_batch, dtype=object).astype('float32')\n",
    "            video_input_batch = np.array(video_input_batch, dtype=object).astype('float32')\n",
    "            X_batch = X_batch.astype('float32')\n",
    "            y_batch = y_batch.astype('float32')\n",
    "\n",
    "            yield ((X_batch, icon_input_batch, video_input_batch), y_batch)"
   ]
  },
  {
   "cell_type": "code",
   "execution_count": null,
   "metadata": {
    "id": "FmMSeDZC2Uuf"
   },
   "outputs": [],
   "source": [
    "icon_train_dir = os.getcwd() / pathlib.Path(\"icon_subsets\") / pathlib.Path(\"train\")\n",
    "video_train_dir = os.getcwd() / pathlib.Path(\"video_subsets\") / pathlib.Path(\"train\")\n",
    "train_generator = combined_generator(icon_train_dir, video_train_dir, X_train, y_train, 25, train_ids)\n",
    "\n",
    "icon_val_dir = os.getcwd() / pathlib.Path(\"icon_subsets\") / pathlib.Path(\"validation\")\n",
    "video_val_dir = os.getcwd() / pathlib.Path(\"video_subsets\") / pathlib.Path(\"validation\")\n",
    "val_generator = combined_generator(icon_val_dir, video_val_dir, X_val, y_val, 25, validation_ids)\n",
    "\n",
    "icon_test_dir = os.getcwd() / pathlib.Path(\"icon_subsets\") / pathlib.Path(\"test\")\n",
    "video_test_dir = os.getcwd() / pathlib.Path(\"video_subsets\") / pathlib.Path(\"test\")\n",
    "test_generator = combined_generator(icon_test_dir, video_test_dir, X_test, y_test, 25, test_ids)"
   ]
  },
  {
   "cell_type": "markdown",
   "metadata": {
    "id": "EJGEuO5bI8Sa"
   },
   "source": [
    "We have created a CNN for icon data which consists of data augmentation, rescaling, 2 convolution and 2 max pooling layers. Then, we have a flatten layer to flatten multi dimensional output to a single dimension. Lastly, there are two dense layers to reduce the size of the output before concatenation."
   ]
  },
  {
   "cell_type": "code",
   "execution_count": null,
   "metadata": {
    "id": "xlfA8v9--Gm1"
   },
   "outputs": [],
   "source": [
    "cnn1_input = tf.keras.Input(shape = (180,180,3), name= \"cnn1_input\")\n",
    "\n",
    "x =  tf.keras.layers.RandomFlip(\"horizontal\")(cnn1_input)\n",
    "x = tf.keras.layers.RandomRotation(0.1)(x)\n",
    "x = tf.keras.layers.RandomZoom(0.2)(x)\n",
    "x = tf.keras.layers.Rescaling(1./255)(x)\n",
    "\n",
    "x = tf.keras.layers.Conv2D(filters=32, kernel_size=3, activation=\"swish\")(x)\n",
    "x = tf.keras.layers.MaxPool2D(pool_size=2)(x)\n",
    "x = tf.keras.layers.Conv2D(filters=64, kernel_size=3, activation=\"swish\")(x)\n",
    "x = tf.keras.layers.MaxPool2D(pool_size=2)(x)\n",
    "\n",
    "x = tf.keras.layers.Flatten()(x)\n",
    "\n",
    "x = tf.keras.layers.Dense(64, activation=\"swish\")(x)\n",
    "x = tf.keras.layers.Dense(32, activation=\"swish\")(x)"
   ]
  },
  {
   "cell_type": "markdown",
   "metadata": {
    "id": "mKaV63DBJnyk"
   },
   "source": [
    "Another CNN for video data with the same structure above."
   ]
  },
  {
   "cell_type": "code",
   "execution_count": null,
   "metadata": {
    "id": "wtnWyZH5ceS6"
   },
   "outputs": [],
   "source": [
    "cnn2_input = tf.keras.Input(shape = (512,250,3), name= \"cnn2_input\")\n",
    "\n",
    "y =  tf.keras.layers.RandomFlip(\"horizontal\")(cnn2_input)\n",
    "y = tf.keras.layers.RandomRotation(0.1)(y)\n",
    "y = tf.keras.layers.RandomZoom(0.2)(y)\n",
    "y = tf.keras.layers.Rescaling(1./255)(y)\n",
    "\n",
    "y = tf.keras.layers.Conv2D(filters=32, kernel_size=3, activation=\"swish\")(y)\n",
    "y = tf.keras.layers.MaxPool2D(pool_size=2)(y)\n",
    "y = tf.keras.layers.Conv2D(filters=64, kernel_size=3, activation=\"swish\")(y)\n",
    "y = tf.keras.layers.MaxPool2D(pool_size=2)(y)\n",
    "\n",
    "y = tf.keras.layers.Flatten()(y)\n",
    "\n",
    "y = tf.keras.layers.Dense(64, activation=\"swish\")(y)\n",
    "y = tf.keras.layers.Dense(32, activation=\"swish\")(y)"
   ]
  },
  {
   "cell_type": "markdown",
   "metadata": {
    "id": "0hDpb4dpJvvw"
   },
   "source": [
    "Lastly, we have concatenated three models with concatenate, proccessed the data with hidden layers. We also added a dropout layer since we have observed overfitting."
   ]
  },
  {
   "cell_type": "code",
   "execution_count": null,
   "metadata": {
    "id": "Ifg77UiYwvX1"
   },
   "outputs": [],
   "source": [
    "concat = tf.keras.layers.Concatenate()([hidden3, x, y])\n",
    "hidden4 = tf.keras.layers.Dense(64, activation=\"swish\")(concat)\n",
    "dropout = tf.keras.layers.Dropout(0.2)(hidden4)\n",
    "hidden5 = tf.keras.layers.Dense(32, activation=\"swish\")(dropout)\n",
    "output = tf.keras.layers.Dense(15, activation=\"softmax\")(hidden5)"
   ]
  },
  {
   "cell_type": "markdown",
   "metadata": {
    "id": "IDvlyF9lKbUr"
   },
   "source": [
    "We have compiled the model with three inputs and one output. The loss function was selected as Sparse Categorical Crossentropy since we want to make a classfication with 15 classes."
   ]
  },
  {
   "cell_type": "code",
   "execution_count": null,
   "metadata": {
    "id": "-RIoDAiUP7ys"
   },
   "outputs": [],
   "source": [
    "combined_model = tf.keras.Model(inputs= [dnn_input, cnn1_input, cnn2_input], outputs = output)\n",
    "combined_model.compile(optimizer=\"adam\", loss = \"sparse_categorical_crossentropy\", metrics = [\"accuracy\"])"
   ]
  },
  {
   "cell_type": "code",
   "execution_count": null,
   "metadata": {
    "id": "rGeKSzw8-Gm2"
   },
   "outputs": [],
   "source": [
    "check_point = tf.keras.callbacks.ModelCheckpoint(\n",
    "    filepath = \"convnet.keras\",\n",
    "    save_best_only = True,\n",
    "    monitor = \"val_loss\"\n",
    ")"
   ]
  },
  {
   "cell_type": "markdown",
   "metadata": {
    "id": "mZirMPQHKuAJ"
   },
   "source": [
    "Finally, we have fitted the model with the train data."
   ]
  },
  {
   "cell_type": "code",
   "execution_count": null,
   "metadata": {
    "colab": {
     "base_uri": "https://localhost:8080/"
    },
    "id": "tuJ2CzE3-Gm2",
    "outputId": "c9deae71-1e5d-4c2c-f797-740a181ffbdf"
   },
   "outputs": [
    {
     "name": "stdout",
     "output_type": "stream",
     "text": [
      "Epoch 1/20\n",
      "50/50 [==============================] - 68s 1s/step - loss: 2.6557 - accuracy: 0.1856 - val_loss: 2.3640 - val_accuracy: 0.2500\n",
      "Epoch 2/20\n",
      "50/50 [==============================] - 46s 940ms/step - loss: 2.0942 - accuracy: 0.2864 - val_loss: 2.0420 - val_accuracy: 0.2800\n",
      "Epoch 3/20\n",
      "50/50 [==============================] - 47s 952ms/step - loss: 1.8631 - accuracy: 0.3384 - val_loss: 1.8762 - val_accuracy: 0.3080\n",
      "Epoch 4/20\n",
      "50/50 [==============================] - 47s 951ms/step - loss: 1.6884 - accuracy: 0.3664 - val_loss: 1.8061 - val_accuracy: 0.3680\n",
      "Epoch 5/20\n",
      "50/50 [==============================] - 44s 897ms/step - loss: 1.5740 - accuracy: 0.4128 - val_loss: 1.8392 - val_accuracy: 0.3620\n",
      "Epoch 6/20\n",
      "50/50 [==============================] - 44s 900ms/step - loss: 1.4820 - accuracy: 0.4504 - val_loss: 1.8115 - val_accuracy: 0.3700\n",
      "Epoch 7/20\n",
      "50/50 [==============================] - 44s 899ms/step - loss: 1.4229 - accuracy: 0.4704 - val_loss: 1.9274 - val_accuracy: 0.3440\n",
      "Epoch 8/20\n",
      "50/50 [==============================] - 52s 1s/step - loss: 1.3842 - accuracy: 0.4912 - val_loss: 1.8915 - val_accuracy: 0.3640\n",
      "Epoch 9/20\n",
      "50/50 [==============================] - 45s 909ms/step - loss: 1.3250 - accuracy: 0.4952 - val_loss: 1.9005 - val_accuracy: 0.3820\n",
      "Epoch 10/20\n",
      "50/50 [==============================] - 44s 888ms/step - loss: 1.2353 - accuracy: 0.5368 - val_loss: 1.9694 - val_accuracy: 0.3540\n",
      "Epoch 11/20\n",
      "50/50 [==============================] - 44s 886ms/step - loss: 1.1912 - accuracy: 0.5552 - val_loss: 2.0084 - val_accuracy: 0.3640\n",
      "Epoch 12/20\n",
      "50/50 [==============================] - 44s 888ms/step - loss: 1.1481 - accuracy: 0.5672 - val_loss: 2.1562 - val_accuracy: 0.3440\n",
      "Epoch 13/20\n",
      "50/50 [==============================] - 44s 886ms/step - loss: 1.1003 - accuracy: 0.5800 - val_loss: 2.1651 - val_accuracy: 0.3320\n",
      "Epoch 14/20\n",
      "50/50 [==============================] - 45s 911ms/step - loss: 1.0667 - accuracy: 0.6000 - val_loss: 2.2696 - val_accuracy: 0.3360\n",
      "Epoch 15/20\n",
      "50/50 [==============================] - 44s 886ms/step - loss: 1.0171 - accuracy: 0.6168 - val_loss: 2.3002 - val_accuracy: 0.3300\n",
      "Epoch 16/20\n",
      "50/50 [==============================] - 44s 886ms/step - loss: 1.0082 - accuracy: 0.6072 - val_loss: 2.3259 - val_accuracy: 0.3340\n",
      "Epoch 17/20\n",
      "50/50 [==============================] - 44s 887ms/step - loss: 0.9294 - accuracy: 0.6568 - val_loss: 2.4518 - val_accuracy: 0.3440\n",
      "Epoch 18/20\n",
      "50/50 [==============================] - 45s 911ms/step - loss: 0.9473 - accuracy: 0.6344 - val_loss: 2.4973 - val_accuracy: 0.3100\n",
      "Epoch 19/20\n",
      "50/50 [==============================] - 44s 885ms/step - loss: 0.8490 - accuracy: 0.6784 - val_loss: 2.7380 - val_accuracy: 0.3060\n",
      "Epoch 20/20\n",
      "50/50 [==============================] - 44s 887ms/step - loss: 0.8418 - accuracy: 0.6808 - val_loss: 2.7047 - val_accuracy: 0.3220\n"
     ]
    }
   ],
   "source": [
    "history = combined_model.fit(train_generator, batch_size=25, epochs = 10,\n",
    "                             callbacks=[check_point], validation_data=val_generator, \n",
    "                             steps_per_epoch= len(X_train)//25,\n",
    "                             validation_steps = len(X_val)//25)"
   ]
  },
  {
   "cell_type": "markdown",
   "metadata": {
    "id": "YZ5Hw8gbLCA7"
   },
   "source": [
    "# Results"
   ]
  },
  {
   "cell_type": "code",
   "execution_count": null,
   "metadata": {
    "colab": {
     "base_uri": "https://localhost:8080/"
    },
    "id": "9Iw5pjbMtZTt",
    "outputId": "2b007d5f-b7cc-458b-f666-5d373807d492"
   },
   "outputs": [
    {
     "name": "stdout",
     "output_type": "stream",
     "text": [
      "24/24 [==============================] - 23s 1s/step - loss: 2.3621 - accuracy: 0.3567\n"
     ]
    },
    {
     "data": {
      "text/plain": [
       "[2.362105369567871, 0.3566666543483734]"
      ]
     },
     "execution_count": 239,
     "metadata": {},
     "output_type": "execute_result"
    }
   ],
   "source": [
    "combined_model.evaluate(test_generator, batch_size=25, steps= len(X_test)//25)"
   ]
  },
  {
   "cell_type": "code",
   "execution_count": null,
   "metadata": {
    "colab": {
     "base_uri": "https://localhost:8080/",
     "height": 392
    },
    "id": "znS_66RUu08q",
    "outputId": "be5effb5-7ff3-4386-b07d-229f9b4f5c63"
   },
   "outputs": [
    {
     "data": {
      "text/plain": [
       "<matplotlib.legend.Legend at 0x7f51442ce050>"
      ]
     },
     "execution_count": 240,
     "metadata": {},
     "output_type": "execute_result"
    },
    {
     "data": {
      "image/png": "[encoded data removed]",
      "text/plain": [
       "<Figure size 864x432 with 2 Axes>"
      ]
     },
     "metadata": {
      "needs_background": "light"
     },
     "output_type": "display_data"
    }
   ],
   "source": [
    "import matplotlib.pyplot as plt\n",
    "\n",
    "plt.figure(figsize=(12,6))\n",
    "plt.subplot(1,2,1)\n",
    "plt.plot(history.history[\"loss\"], label=\"Train Loss\")\n",
    "plt.plot(history.history[\"val_loss\"], label=\"Validation Loss\")\n",
    "plt.legend()\n",
    "\n",
    "plt.subplot(1,2,2)\n",
    "plt.plot(history.history[\"accuracy\"], label=\"Train Accuracy\")\n",
    "plt.plot(history.history[\"val_accuracy\"], label=\"Validation Accuracy\")\n",
    "\n",
    "plt.legend()"
   ]
  },
  {
   "cell_type": "code",
   "execution_count": null,
   "metadata": {
    "id": "9bf6xWceSUec"
   },
   "outputs": [],
   "source": [
    "tf.keras.utils.plot_model(combined_model, show_shapes=True)"
   ]
  },
  {
   "cell_type": "markdown",
   "metadata": {
    "id": "SZv6rlQuLH2S"
   },
   "source": [
    "We have achieved a validation accuracy around 30% although the training accuracy is as high as 67%. This indicated that our model overfits to the training data and fails to generalize. This assumption is supported by the graphs that showing the widening of the gap between the loss and accuracy values of train and validation data."
   ]
  },
  {
   "cell_type": "markdown",
   "metadata": {
    "id": "q67rmzPjNMlO"
   },
   "source": [
    "The evaluation of the model with the test set results in an accuracy of 35%."
   ]
  },
  {
   "cell_type": "markdown",
   "metadata": {
    "id": "LC2ZV965MO-P"
   },
   "source": [
    "Although we have tried different techniques such as Dropout, Data Augmentation, Different Poolings, activation functions and model structures with different parameters, we could not solve the overfitting problem, thus we could not get healthy results."
   ]
  }
 ],
 "metadata": {
  "accelerator": "GPU",
  "colab": {
   "collapsed_sections": [],
   "name": "Google_Play_Part_2_1.ipynb",
   "provenance": []
  },
  "gpuClass": "standard",
  "kernelspec": {
   "display_name": "Python 3 (ipykernel)",
   "language": "python",
   "name": "python3"
  },
  "language_info": {
   "codemirror_mode": {
    "name": "ipython",
    "version": 3
   },
   "file_extension": ".py",
   "mimetype": "text/x-python",
   "name": "python",
   "nbconvert_exporter": "python",
   "pygments_lexer": "ipython3",
   "version": "3.9.7"
  }
 },
 "nbformat": 4,
 "nbformat_minor": 1
}
